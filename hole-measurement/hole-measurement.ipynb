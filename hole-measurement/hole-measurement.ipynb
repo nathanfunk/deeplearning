{
 "cells": [
  {
   "cell_type": "code",
   "execution_count": 15,
   "metadata": {},
   "outputs": [
    {
     "output_type": "stream",
     "name": "stdout",
     "text": [
      "[[  0.  -3.  -6.  -9. -12. -15.]\n [  0.  -2.  -4.  -6.  -8. -10.]\n [  0.  -1.  -2.  -3.  -4.  -5.]\n [  0.   0.   0.   0.   0.   0.]\n [  0.   1.   2.   3.   4.   5.]\n [  0.   2.   4.   6.   8.  10.]\n [  0.   3.   6.   9.  12.  15.]]\n"
     ]
    }
   ],
   "source": [
    "import numpy as np\n",
    "\n",
    "# build examples\n",
    "dataWidth = 6\n",
    "minSlope = -3\n",
    "maxSlope = 3\n",
    "\n",
    "# build varying slopes\n",
    "def generateSlopes():\n",
    "    dataset = None\n",
    "    i=0\n",
    "    slope = np.empty(maxSlope-minSlope+1)\n",
    "    for currentSlope in range (minSlope, maxSlope+1):\n",
    "        slope[i] = currentSlope\n",
    "        lastValue = 0\n",
    "        if (currentSlope == 0):\n",
    "            newdata = np.zeros(dataWidth)\n",
    "        else:\n",
    "            newdata = np.arange(0, dataWidth*currentSlope, currentSlope)\n",
    "        if (dataset is None):\n",
    "            dataset = newdata\n",
    "        else:\n",
    "            dataset = np.vstack((dataset, newdata))\n",
    "        i+=1\n",
    "    return dataset    \n",
    "\n",
    "def knockOutHoles(dataset):\n",
    "    for row in dataset:\n",
    "        row[3] = 0\n",
    "    return dataset\n",
    "\n",
    "dataset = generateSlopes()\n",
    "dataset = knockOutHoles(dataset)\n",
    "\n",
    "print(dataset)"
   ]
  },
  {
   "cell_type": "code",
   "execution_count": null,
   "metadata": {},
   "outputs": [],
   "source": []
  },
  {
   "cell_type": "code",
   "execution_count": null,
   "metadata": {},
   "outputs": [],
   "source": []
  }
 ],
 "metadata": {
  "kernelspec": {
   "name": "python3",
   "display_name": "Python 3.6.12 64-bit ('keras': conda)",
   "metadata": {
    "interpreter": {
     "hash": "63a5aae23492b32190b5ab1d5b61b2e83dfcc80881ebba66e849290c4a545a40"
    }
   }
  },
  "language_info": {
   "codemirror_mode": {
    "name": "ipython",
    "version": 3
   },
   "file_extension": ".py",
   "mimetype": "text/x-python",
   "name": "python",
   "nbconvert_exporter": "python",
   "pygments_lexer": "ipython3",
   "version": "3.6.12-final"
  }
 },
 "nbformat": 4,
 "nbformat_minor": 4
}