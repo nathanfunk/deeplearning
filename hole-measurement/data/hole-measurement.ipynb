{
 "cells": [
  {
   "source": [
    "# Data generation\n",
    "Generates a dataset with different\n",
    "- slopes\n",
    "- hole sizes\n",
    "- hole locations"
   ],
   "cell_type": "markdown",
   "metadata": {}
  },
  {
   "cell_type": "code",
   "execution_count": 29,
   "metadata": {},
   "outputs": [
    {
     "output_type": "stream",
     "name": "stdout",
     "text": [
      "HeaderStr: v0, v1, v2, v3, v4, v5,  holePresent, holeWidth\n[[   0.   -3.   -6.   -9.  -12.  -15.    0.    0.]\n [   0.   -2.   -4.   -6.   -8.  -10.    0.    0.]\n [   0.   -1.   -2.   -3.   -4.   -5.    0.    0.]\n [   0.    0.    0.    0.    0.    0.    0.    0.]\n [   0.    1.    2.    3.    4.    5.    0.    0.]\n [   0.    2.    4.    6.    8.   10.    0.    0.]\n [   0.    3.    6.    9.   12.   15.    0.    0.]\n [   0.   -3. -100.   -9.  -12.  -15.    1.    1.]\n [   0.   -2. -100.   -6.   -8.  -10.    1.    1.]\n [   0.   -1. -100.   -3.   -4.   -5.    1.    1.]\n [   0.    0. -100.    0.    0.    0.    1.    1.]\n [   0.    1. -100.    3.    4.    5.    1.    1.]\n [   0.    2. -100.    6.    8.   10.    1.    1.]\n [   0.    3. -100.    9.   12.   15.    1.    1.]\n [   0.   -3.   -6. -100.  -12.  -15.    1.    1.]\n [   0.   -2.   -4. -100.   -8.  -10.    1.    1.]\n [   0.   -1.   -2. -100.   -4.   -5.    1.    1.]\n [   0.    0.    0. -100.    0.    0.    1.    1.]\n [   0.    1.    2. -100.    4.    5.    1.    1.]\n [   0.    2.    4. -100.    8.   10.    1.    1.]\n [   0.    3.    6. -100.   12.   15.    1.    1.]\n [   0.   -3. -100. -100.  -12.  -15.    1.    2.]\n [   0.   -2. -100. -100.   -8.  -10.    1.    2.]\n [   0.   -1. -100. -100.   -4.   -5.    1.    2.]\n [   0.    0. -100. -100.    0.    0.    1.    2.]\n [   0.    1. -100. -100.    4.    5.    1.    2.]\n [   0.    2. -100. -100.    8.   10.    1.    2.]\n [   0.    3. -100. -100.   12.   15.    1.    2.]\n [-100.   -3.   -6.   -9.  -12.  -15.    0.    0.]\n [-100.   -2.   -4.   -6.   -8.  -10.    0.    0.]\n [-100.   -1.   -2.   -3.   -4.   -5.    0.    0.]\n [-100.    0.    0.    0.    0.    0.    0.    0.]\n [-100.    1.    2.    3.    4.    5.    0.    0.]\n [-100.    2.    4.    6.    8.   10.    0.    0.]\n [-100.    3.    6.    9.   12.   15.    0.    0.]\n [-100.   -3. -100.   -9.  -12.  -15.    1.    1.]\n [-100.   -2. -100.   -6.   -8.  -10.    1.    1.]\n [-100.   -1. -100.   -3.   -4.   -5.    1.    1.]\n [-100.    0. -100.    0.    0.    0.    1.    1.]\n [-100.    1. -100.    3.    4.    5.    1.    1.]\n [-100.    2. -100.    6.    8.   10.    1.    1.]\n [-100.    3. -100.    9.   12.   15.    1.    1.]\n [-100.   -3.   -6. -100.  -12.  -15.    1.    1.]\n [-100.   -2.   -4. -100.   -8.  -10.    1.    1.]\n [-100.   -1.   -2. -100.   -4.   -5.    1.    1.]\n [-100.    0.    0. -100.    0.    0.    1.    1.]\n [-100.    1.    2. -100.    4.    5.    1.    1.]\n [-100.    2.    4. -100.    8.   10.    1.    1.]\n [-100.    3.    6. -100.   12.   15.    1.    1.]\n [-100.   -3. -100. -100.  -12.  -15.    1.    2.]\n [-100.   -2. -100. -100.   -8.  -10.    1.    2.]\n [-100.   -1. -100. -100.   -4.   -5.    1.    2.]\n [-100.    0. -100. -100.    0.    0.    1.    2.]\n [-100.    1. -100. -100.    4.    5.    1.    2.]\n [-100.    2. -100. -100.    8.   10.    1.    2.]\n [-100.    3. -100. -100.   12.   15.    1.    2.]\n [   0.   -3.   -6.   -9.  -12. -100.    0.    0.]\n [   0.   -2.   -4.   -6.   -8. -100.    0.    0.]\n [   0.   -1.   -2.   -3.   -4. -100.    0.    0.]\n [   0.    0.    0.    0.    0. -100.    0.    0.]\n [   0.    1.    2.    3.    4. -100.    0.    0.]\n [   0.    2.    4.    6.    8. -100.    0.    0.]\n [   0.    3.    6.    9.   12. -100.    0.    0.]\n [   0.   -3. -100.   -9.  -12. -100.    1.    1.]\n [   0.   -2. -100.   -6.   -8. -100.    1.    1.]\n [   0.   -1. -100.   -3.   -4. -100.    1.    1.]\n [   0.    0. -100.    0.    0. -100.    1.    1.]\n [   0.    1. -100.    3.    4. -100.    1.    1.]\n [   0.    2. -100.    6.    8. -100.    1.    1.]\n [   0.    3. -100.    9.   12. -100.    1.    1.]\n [   0.   -3.   -6. -100.  -12. -100.    1.    1.]\n [   0.   -2.   -4. -100.   -8. -100.    1.    1.]\n [   0.   -1.   -2. -100.   -4. -100.    1.    1.]\n [   0.    0.    0. -100.    0. -100.    1.    1.]\n [   0.    1.    2. -100.    4. -100.    1.    1.]\n [   0.    2.    4. -100.    8. -100.    1.    1.]\n [   0.    3.    6. -100.   12. -100.    1.    1.]\n [   0.   -3. -100. -100.  -12. -100.    1.    2.]\n [   0.   -2. -100. -100.   -8. -100.    1.    2.]\n [   0.   -1. -100. -100.   -4. -100.    1.    2.]\n [   0.    0. -100. -100.    0. -100.    1.    2.]\n [   0.    1. -100. -100.    4. -100.    1.    2.]\n [   0.    2. -100. -100.    8. -100.    1.    2.]\n [   0.    3. -100. -100.   12. -100.    1.    2.]\n [-100.   -3.   -6.   -9.  -12. -100.    0.    0.]\n [-100.   -2.   -4.   -6.   -8. -100.    0.    0.]\n [-100.   -1.   -2.   -3.   -4. -100.    0.    0.]\n [-100.    0.    0.    0.    0. -100.    0.    0.]\n [-100.    1.    2.    3.    4. -100.    0.    0.]\n [-100.    2.    4.    6.    8. -100.    0.    0.]\n [-100.    3.    6.    9.   12. -100.    0.    0.]\n [-100.   -3. -100.   -9.  -12. -100.    1.    1.]\n [-100.   -2. -100.   -6.   -8. -100.    1.    1.]\n [-100.   -1. -100.   -3.   -4. -100.    1.    1.]\n [-100.    0. -100.    0.    0. -100.    1.    1.]\n [-100.    1. -100.    3.    4. -100.    1.    1.]\n [-100.    2. -100.    6.    8. -100.    1.    1.]\n [-100.    3. -100.    9.   12. -100.    1.    1.]\n [-100.   -3.   -6. -100.  -12. -100.    1.    1.]\n [-100.   -2.   -4. -100.   -8. -100.    1.    1.]\n [-100.   -1.   -2. -100.   -4. -100.    1.    1.]\n [-100.    0.    0. -100.    0. -100.    1.    1.]\n [-100.    1.    2. -100.    4. -100.    1.    1.]\n [-100.    2.    4. -100.    8. -100.    1.    1.]\n [-100.    3.    6. -100.   12. -100.    1.    1.]\n [-100.   -3. -100. -100.  -12. -100.    1.    2.]\n [-100.   -2. -100. -100.   -8. -100.    1.    2.]\n [-100.   -1. -100. -100.   -4. -100.    1.    2.]\n [-100.    0. -100. -100.    0. -100.    1.    2.]\n [-100.    1. -100. -100.    4. -100.    1.    2.]\n [-100.    2. -100. -100.    8. -100.    1.    2.]\n [-100.    3. -100. -100.   12. -100.    1.    2.]]\n"
     ]
    }
   ],
   "source": [
    "import numpy as np\n",
    "\n",
    "# structure\n",
    "# [datawidth] columns of height data -100 for null\n",
    "# hole present (0=no or 1=yes)\n",
    "# hole size (0 for not present, 1 for one pixel wide hole)\n",
    "\n",
    "\n",
    "# build examples\n",
    "dataWidth = 6\n",
    "minSlope = -3\n",
    "maxSlope = 3\n",
    "nullValue = -100\n",
    "\n",
    "# build varying slopes\n",
    "def generateSlopes():\n",
    "    dataset = None\n",
    "    i=0\n",
    "    slope = np.empty(maxSlope-minSlope+1)\n",
    "    for currentSlope in range (minSlope, maxSlope+1):\n",
    "        slope[i] = currentSlope\n",
    "        lastValue = 0\n",
    "        if (currentSlope == 0):\n",
    "            newdata = np.zeros(dataWidth)\n",
    "        else:\n",
    "            newdata = np.arange(0, dataWidth*currentSlope, currentSlope)\n",
    "        if (dataset is None):\n",
    "            dataset = newdata\n",
    "        else:\n",
    "            dataset = np.vstack((dataset, newdata))\n",
    "        i+=1\n",
    "    return dataset    \n",
    "\n",
    "def knockOutHoles(dataset):\n",
    "    ds1 = dataset.copy()\n",
    "    ds2 = dataset.copy()\n",
    "    ds3 = dataset.copy()\n",
    "    for row in ds1:\n",
    "        row[2] = nullValue\n",
    "    for row in ds2:\n",
    "        row[3] = nullValue\n",
    "    for row in ds3:\n",
    "        row[2:4] = nullValue\n",
    "    return np.concatenate((ds1, ds2, ds3))\n",
    "\n",
    "def trimLeftEdge(dataset):\n",
    "    for row in dataset:\n",
    "        row[0] = nullValue\n",
    "    return dataset\n",
    "\n",
    "def trimRightEdge(dataset):\n",
    "    for row in dataset:\n",
    "        row[-1] = nullValue\n",
    "    return dataset\n",
    "\n",
    "def holeData(row):\n",
    "    lastValue = nullValue\n",
    "    steppedDown = False\n",
    "    holeSize = 0\n",
    "    for value in row:\n",
    "        # check if we stepped down to null\n",
    "        if (steppedDown):\n",
    "            holeSize = holeSize+1\n",
    "\n",
    "            # check for step up after having stepped down\n",
    "            if (lastValue == nullValue and value != nullValue):\n",
    "                return True, holeSize\n",
    "                steppedDown = False\n",
    "        else:\n",
    "            # check for step down to null\n",
    "            if (lastValue != nullValue and value == nullValue):\n",
    "                steppedDown = True\n",
    "\n",
    "        lastValue = value\n",
    "\n",
    "    # no hole found\n",
    "    return False, 0\n",
    "\n",
    "def buildLabels(unlabled):\n",
    "    nRows = np.shape(unlabled)[0]\n",
    "    holePresent = np.zeros((nRows,1))\n",
    "    holeSize = np.zeros((nRows,1))\n",
    "    i = 0\n",
    "    for row in unlabled:\n",
    "        h = holeData(row)\n",
    "        holePresent[i] = h[0]\n",
    "        holeSize[i] = h[1]           \n",
    "        i = i+1\n",
    "    lables = np.hstack((holePresent,holeSize))\n",
    "    return lables\n",
    "\n",
    "\n",
    "ds = generateSlopes()\n",
    "ds = np.concatenate((ds, knockOutHoles(ds.copy())))\n",
    "ds = np.concatenate((ds, trimLeftEdge(ds.copy())))\n",
    "ds = np.concatenate((ds, trimRightEdge(ds.copy())))\n",
    "\n",
    "np.shape(ds)\n",
    "\n",
    "lables = buildLabels(ds)\n",
    "lds = np.hstack((ds, lables))\n",
    "# format output\n",
    "headerStr = \"\"\n",
    "for i in range(dataWidth):\n",
    "    headerStr = headerStr + \"v\" + str(i) + \", \"\n",
    "headerStr = headerStr + \" holePresent, holeWidth\"\n",
    "print(\"HeaderStr: \"+headerStr)\n",
    "np.savetxt(\"holes6.csv\", lds, delimiter=\",\", header=headerStr)\n",
    "print(lds)"
   ]
  },
  {
   "source": [
    "# Learning\n",
    "Fit a model to the data"
   ],
   "cell_type": "markdown",
   "metadata": {}
  },
  {
   "cell_type": "code",
   "execution_count": 2,
   "metadata": {
    "tags": []
   },
   "outputs": [
    {
     "output_type": "stream",
     "name": "stdout",
     "text": [
      "Compiling model...\n"
     ]
    }
   ],
   "source": [
    "\n",
    "# first neural network with keras make predictions\n",
    "from numpy import loadtxt\n",
    "from keras.models import Sequential\n",
    "from keras.layers import Dense\n",
    "# load the dataset\n",
    "dataset = loadtxt('holes6.csv', delimiter=',')\n",
    "# split into input (X) and output (y) variables\n",
    "X = dataset[:,0:6]\n",
    "y = dataset[:,7]\n",
    "# define the keras model\n",
    "model = Sequential()\n",
    "model.add(Dense(36, input_dim=6, activation='relu'))\n",
    "model.add(Dense(30, activation='sigmoid'))\n",
    "model.add(Dense(20, activation='relu'))\n",
    "model.add(Dense(1, activation='relu'))\n",
    "# compile the keras model\n",
    "print(\"Compiling model...\")\n",
    "model.compile(loss='mean_squared_error', optimizer='adam', metrics=['accuracy'])\n",
    "\n"
   ]
  },
  {
   "cell_type": "code",
   "execution_count": 4,
   "metadata": {},
   "outputs": [
    {
     "output_type": "stream",
     "name": "stdout",
     "text": [
      "Fitting model...\n"
     ]
    }
   ],
   "source": [
    "# fit the keras model on the dataset\n",
    "print(\"Fitting model...\")\n",
    "history = model.fit(X, y, epochs=20, batch_size=20, verbose=0)\n"
   ]
  },
  {
   "cell_type": "code",
   "execution_count": 6,
   "metadata": {},
   "outputs": [
    {
     "output_type": "stream",
     "name": "stdout",
     "text": [
      "dict_keys(['loss', 'accuracy'])\n"
     ]
    }
   ],
   "source": [
    "# list all data in history\n",
    "print(history.history.keys())\n"
   ]
  },
  {
   "cell_type": "code",
   "execution_count": 7,
   "metadata": {},
   "outputs": [
    {
     "output_type": "error",
     "ename": "NameError",
     "evalue": "name 'plt' is not defined",
     "traceback": [
      "\u001b[1;31m---------------------------------------------------------------------------\u001b[0m",
      "\u001b[1;31mNameError\u001b[0m                                 Traceback (most recent call last)",
      "\u001b[1;32m<ipython-input-7-1dc917a0af1a>\u001b[0m in \u001b[0;36m<module>\u001b[1;34m\u001b[0m\n\u001b[0;32m      1\u001b[0m \u001b[1;31m# summarize history for accuracy\u001b[0m\u001b[1;33m\u001b[0m\u001b[1;33m\u001b[0m\u001b[1;33m\u001b[0m\u001b[0m\n\u001b[1;32m----> 2\u001b[1;33m \u001b[0mplt\u001b[0m\u001b[1;33m.\u001b[0m\u001b[0mplot\u001b[0m\u001b[1;33m(\u001b[0m\u001b[0mhistory\u001b[0m\u001b[1;33m.\u001b[0m\u001b[0mhistory\u001b[0m\u001b[1;33m[\u001b[0m\u001b[1;34m'accuracy'\u001b[0m\u001b[1;33m]\u001b[0m\u001b[1;33m)\u001b[0m\u001b[1;33m\u001b[0m\u001b[1;33m\u001b[0m\u001b[0m\n\u001b[0m\u001b[0;32m      3\u001b[0m \u001b[0mplt\u001b[0m\u001b[1;33m.\u001b[0m\u001b[0mtitle\u001b[0m\u001b[1;33m(\u001b[0m\u001b[1;34m'model accuracy'\u001b[0m\u001b[1;33m)\u001b[0m\u001b[1;33m\u001b[0m\u001b[1;33m\u001b[0m\u001b[0m\n\u001b[0;32m      4\u001b[0m \u001b[0mplt\u001b[0m\u001b[1;33m.\u001b[0m\u001b[0mylabel\u001b[0m\u001b[1;33m(\u001b[0m\u001b[1;34m'accuracy'\u001b[0m\u001b[1;33m)\u001b[0m\u001b[1;33m\u001b[0m\u001b[1;33m\u001b[0m\u001b[0m\n\u001b[0;32m      5\u001b[0m \u001b[0mplt\u001b[0m\u001b[1;33m.\u001b[0m\u001b[0mxlabel\u001b[0m\u001b[1;33m(\u001b[0m\u001b[1;34m'epoch'\u001b[0m\u001b[1;33m)\u001b[0m\u001b[1;33m\u001b[0m\u001b[1;33m\u001b[0m\u001b[0m\n",
      "\u001b[1;31mNameError\u001b[0m: name 'plt' is not defined"
     ]
    }
   ],
   "source": [
    "import matplotlib.pyplot as plt\n",
    "# summarize history for accuracy\n",
    "plt.plot(history.history['accuracy'])\n",
    "plt.title('model accuracy')\n",
    "plt.ylabel('accuracy')\n",
    "plt.xlabel('epoch')\n",
    "#plt.legend(['train', 'test'], loc='upper left')\n",
    "plt.show()\n",
    "# summarize history for loss\n",
    "plt.plot(history.history['loss'])\n",
    "plt.plot(history.history['val_loss'])\n",
    "plt.title('model loss')\n",
    "plt.ylabel('loss')\n",
    "plt.xlabel('epoch')\n",
    "plt.legend(['train', 'test'], loc='upper left')\n",
    "plt.show()"
   ]
  },
  {
   "cell_type": "code",
   "execution_count": null,
   "metadata": {},
   "outputs": [],
   "source": [
    "\n",
    "# make class predictions with the model\n",
    "print(\"Making predictions...\")\n",
    "predictions = model.predict(X)\n"
   ]
  },
  {
   "cell_type": "code",
   "execution_count": null,
   "metadata": {},
   "outputs": [],
   "source": [
    "\n",
    "error = np.subtract(y,predictions)\n",
    "error = np.hstack((error, range(len(y))))\n",
    "\n",
    "# summarize the first 5 cases\n",
    "for i in range(100):\n",
    "\tprint('%s => %.1f (expected %.1f)' % (X[i].tolist(), predictions[i], y[i]))"
   ]
  }
 ],
 "metadata": {
  "kernelspec": {
   "name": "python3",
   "display_name": "Python 3.6.12 64-bit ('keras': conda)",
   "metadata": {
    "interpreter": {
     "hash": "63a5aae23492b32190b5ab1d5b61b2e83dfcc80881ebba66e849290c4a545a40"
    }
   }
  },
  "language_info": {
   "codemirror_mode": {
    "name": "ipython",
    "version": 3
   },
   "file_extension": ".py",
   "mimetype": "text/x-python",
   "name": "python",
   "nbconvert_exporter": "python",
   "pygments_lexer": "ipython3",
   "version": "3.6.12-final"
  }
 },
 "nbformat": 4,
 "nbformat_minor": 4
}